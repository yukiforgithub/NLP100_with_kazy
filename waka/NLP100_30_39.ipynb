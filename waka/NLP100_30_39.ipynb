{
 "cells": [
  {
   "cell_type": "code",
   "execution_count": 1,
   "metadata": {
    "scrolled": false
   },
   "outputs": [],
   "source": [
    "import MeCab"
   ]
  },
  {
   "cell_type": "code",
   "execution_count": 2,
   "metadata": {
    "scrolled": true
   },
   "outputs": [
    {
     "name": "stdout",
     "output_type": "stream",
     "text": [
      "あの\tアノ\tあの\t連体詞\t\t\n",
      "花\tハナ\t花\t名詞-一般\t\t\n",
      "は\tハ\tは\t助詞-係助詞\t\t\n",
      "美しい\tウツクシイ\t美しい\t形容詞-自立\t形容詞・イ段\t基本形\n",
      "EOS\n",
      "\n"
     ]
    }
   ],
   "source": [
    "me = MeCab.Tagger(\"-Ochasen\")\n",
    "print(me.parse(\"あの花は美しい\"))"
   ]
  },
  {
   "cell_type": "markdown",
   "metadata": {},
   "source": [
    "### 30"
   ]
  },
  {
   "cell_type": "code",
   "execution_count": 3,
   "metadata": {},
   "outputs": [],
   "source": [
    "with open('neko1.txt.mecab', 'r',encoding='utf-8') as f:\n",
    "    lines = f.readlines()"
   ]
  },
  {
   "cell_type": "code",
   "execution_count": 4,
   "metadata": {
    "scrolled": false
   },
   "outputs": [],
   "source": [
    "_kts_list=[line.replace(\"\\t\",\",\") for line in lines]\n",
    "_kts_list=[line for line in _kts_list if line!='EOS\\n']\n",
    "_kts_list=[line for line in _kts_list if \"\\u3000\" not in line]\n",
    "_kts_list=_kts_list[1:]\n",
    "kts_list=[_line.split(\",\") for _line in _kts_list]"
   ]
  },
  {
   "cell_type": "code",
   "execution_count": 5,
   "metadata": {},
   "outputs": [],
   "source": [
    "maru_posi=[line+1 for line in range(len(kts_list)) if kts_list[line][0]==\"。\"]\n",
    "kts_lists=[kts_list[0:maru_posi[0]]]\n",
    "for _list in range(0,len(maru_posi)-1):\n",
    "    kts_lists.append(kts_list[maru_posi[_list]:maru_posi[_list+1]]) "
   ]
  },
  {
   "cell_type": "markdown",
   "metadata": {},
   "source": [
    "### 31"
   ]
  },
  {
   "cell_type": "code",
   "execution_count": 6,
   "metadata": {
    "scrolled": true
   },
   "outputs": [],
   "source": [
    "sur_verb=[_line[0] for _line in kts_list if _line[1]=='動詞']"
   ]
  },
  {
   "cell_type": "markdown",
   "metadata": {},
   "source": [
    "### 32"
   ]
  },
  {
   "cell_type": "code",
   "execution_count": 29,
   "metadata": {
    "scrolled": true
   },
   "outputs": [],
   "source": [
    "base_verb=[_line[7] for _line in kts_list if _line[1]=='動詞']"
   ]
  },
  {
   "cell_type": "markdown",
   "metadata": {},
   "source": [
    "### 33"
   ]
  },
  {
   "cell_type": "code",
   "execution_count": 30,
   "metadata": {
    "scrolled": true
   },
   "outputs": [],
   "source": [
    "meisiku=[]\n",
    "for _line in range(len(kts_list)):\n",
    "    if kts_list[_line][0]=='の':\n",
    "         if (kts_list[_line-1][1]=='名詞')&(kts_list[_line+1][1]=='名詞'):\n",
    "                meisiku.append(kts_list[_line-1][0]+kts_list[_line][0]+kts_list[_line+1][0])"
   ]
  },
  {
   "cell_type": "markdown",
   "metadata": {},
   "source": [
    "### 34"
   ]
  },
  {
   "cell_type": "code",
   "execution_count": 31,
   "metadata": {},
   "outputs": [],
   "source": [
    "clist=[]\n",
    "c=0\n",
    "for _line in range(len(kts_list)):\n",
    "    if kts_list[_line][1]=='名詞':\n",
    "        c+=1\n",
    "    else:\n",
    "        c=0\n",
    "    clist.append(c)"
   ]
  },
  {
   "cell_type": "code",
   "execution_count": 32,
   "metadata": {},
   "outputs": [],
   "source": [
    "sur_all=[_line[0] for _line in kts_list]"
   ]
  },
  {
   "cell_type": "code",
   "execution_count": 33,
   "metadata": {},
   "outputs": [],
   "source": [
    "meisiku=[]\n",
    "for _line in range(len(clist)):\n",
    "    if clist[_line]>=2:\n",
    "        if clist[_line+1]<clist[_line]:\n",
    "            meisiku.append(\"\".join(sur_all[_line-clist[_line]+1:_line+1]))"
   ]
  },
  {
   "cell_type": "markdown",
   "metadata": {},
   "source": [
    "### 35"
   ]
  },
  {
   "cell_type": "code",
   "execution_count": 34,
   "metadata": {},
   "outputs": [],
   "source": [
    "sur_voc=[i[0] for i in kts_list if i[1]!='記号']"
   ]
  },
  {
   "cell_type": "code",
   "execution_count": 35,
   "metadata": {},
   "outputs": [],
   "source": [
    "import collections\n",
    "count = collections.Counter(sur_voc)"
   ]
  },
  {
   "cell_type": "code",
   "execution_count": 36,
   "metadata": {
    "scrolled": false
   },
   "outputs": [],
   "source": [
    "count_sort=count.most_common()"
   ]
  },
  {
   "cell_type": "markdown",
   "metadata": {},
   "source": [
    "### 36"
   ]
  },
  {
   "cell_type": "code",
   "execution_count": 15,
   "metadata": {},
   "outputs": [
    {
     "data": {
      "text/plain": [
       "Text(0, 0.5, '出現回数')"
      ]
     },
     "execution_count": 15,
     "metadata": {},
     "output_type": "execute_result"
    },
    {
     "data": {
      "image/png": "[encoded data removed]",
      "text/plain": [
       "<Figure size 576x144 with 1 Axes>"
      ]
     },
     "metadata": {
      "needs_background": "light"
     },
     "output_type": "display_data"
    }
   ],
   "source": [
    "count_name=[]\n",
    "count_value=[]\n",
    "for i in count_sort[:10]:\n",
    "    count_name.append(i[0])\n",
    "    count_value.append(i[1])\n",
    "import matplotlib.pyplot as plt\n",
    "plt.figure(figsize=(8,2))\n",
    "plt.bar(count_name,count_value)\n",
    "plt.xticks(fontname=\"MS Gothic\")\n",
    "plt.ylabel('出現回数',fontname=\"MS Gothic\")"
   ]
  },
  {
   "cell_type": "markdown",
   "metadata": {},
   "source": [
    "### 37"
   ]
  },
  {
   "cell_type": "code",
   "execution_count": 16,
   "metadata": {},
   "outputs": [],
   "source": [
    "maru_posi=[line+1 for line in range(len(kts_list)) if kts_list[line][0]==\"。\"]\n",
    "kts_lists_stc=[[kts_list[maru][0] for maru in range(0,maru_posi[0]) if kts_list[maru][1]!=\"記号\"]]\n",
    "for _list in range(0,len(maru_posi)-1):\n",
    "    l=[]\n",
    "    for maru in range(maru_posi[_list],maru_posi[_list+1]):\n",
    "        if kts_list[maru][1]!=\"記号\":\n",
    "            l.append(kts_list[maru][0])\n",
    "    kts_lists_stc.append(l)"
   ]
  },
  {
   "cell_type": "code",
   "execution_count": 17,
   "metadata": {},
   "outputs": [],
   "source": [
    "kyo_neko=[]\n",
    "for i in kts_lists_stc:\n",
    "    if \"猫\" in i:\n",
    "        for j in i:\n",
    "            if j!=\"猫\":\n",
    "                kyo_neko.append(j)"
   ]
  },
  {
   "cell_type": "code",
   "execution_count": 18,
   "metadata": {},
   "outputs": [],
   "source": [
    "import collections\n",
    "count = collections.Counter(kyo_neko)"
   ]
  },
  {
   "cell_type": "code",
   "execution_count": 19,
   "metadata": {
    "scrolled": false
   },
   "outputs": [],
   "source": [
    "count_sort=count.most_common()"
   ]
  },
  {
   "cell_type": "code",
   "execution_count": 20,
   "metadata": {},
   "outputs": [
    {
     "data": {
      "text/plain": [
       "Text(0, 0.5, '出現回数')"
      ]
     },
     "execution_count": 20,
     "metadata": {},
     "output_type": "execute_result"
    },
    {
     "data": {
      "image/png": "[encoded data removed]",
      "text/plain": [
       "<Figure size 576x144 with 1 Axes>"
      ]
     },
     "metadata": {
      "needs_background": "light"
     },
     "output_type": "display_data"
    }
   ],
   "source": [
    "count_name=[]\n",
    "count_value=[]\n",
    "for i in count_sort[:10]:\n",
    "    count_name.append(i[0])\n",
    "    count_value.append(i[1])\n",
    "import matplotlib.pyplot as plt\n",
    "plt.figure(figsize=(8,2))\n",
    "plt.bar(count_name,count_value)\n",
    "plt.xticks(fontname=\"MS Gothic\")\n",
    "plt.ylabel('出現回数',fontname=\"MS Gothic\")"
   ]
  },
  {
   "cell_type": "markdown",
   "metadata": {},
   "source": [
    "### 38"
   ]
  },
  {
   "cell_type": "code",
   "execution_count": 37,
   "metadata": {
    "scrolled": false
   },
   "outputs": [],
   "source": [
    "count_name=[]\n",
    "count_value=[]\n",
    "for i in count_sort:\n",
    "    count_name.append(i[0])\n",
    "    count_value.append(i[1])\n",
    "import matplotlib.pyplot as plt\n",
    "plt.figure(figsize=(8,2))\n",
    "a=plt.hist(count_value,bins=100)\n",
    "plt.xticks(fontname=\"MS Gothic\")\n",
    "plt.xlabel('出現回数',fontname=\"MS Gothic\")\n",
    "plt.ylabel('種類数',fontname=\"MS Gothic\")"
   ]
  },
  {
   "cell_type": "markdown",
   "metadata": {},
   "source": [
    "### 39"
   ]
  },
  {
   "cell_type": "code",
   "execution_count": 42,
   "metadata": {
    "scrolled": false
   },
   "outputs": [],
   "source": [
    "count_rank=[i+1 for i in range(len(count_sort))]"
   ]
  },
  {
   "cell_type": "code",
   "execution_count": 48,
   "metadata": {},
   "outputs": [
    {
     "data": {
      "text/plain": [
       "Text(0, 0.5, '種類数')"
      ]
     },
     "execution_count": 48,
     "metadata": {},
     "output_type": "execute_result"
    },
    {
     "data": {
      "image/png": "[encoded data removed]",
      "text/plain": [
       "<Figure size 576x144 with 1 Axes>"
      ]
     },
     "metadata": {
      "needs_background": "light"
     },
     "output_type": "display_data"
    }
   ],
   "source": [
    "import matplotlib.pyplot as plt\n",
    "plt.figure(figsize=(8,2))\n",
    "plt.plot(count_rank,count_value,marker=\"o\",linewidth=0,markersize=3)\n",
    "plt.xscale('log')\n",
    "plt.yscale('log')\n",
    "plt.xticks(fontname=\"MS Gothic\")\n",
    "plt.xlabel('出現回数(log)',fontname=\"MS Gothic\")\n",
    "plt.ylabel('種類数(log)',fontname=\"MS Gothic\")"
   ]
  },
  {
   "cell_type": "code",
   "execution_count": null,
   "metadata": {},
   "outputs": [],
   "source": []
  },
  {
   "cell_type": "code",
   "execution_count": null,
   "metadata": {},
   "outputs": [],
   "source": []
  }
 ],
 "metadata": {
  "kernelspec": {
   "display_name": "Python 3",
   "language": "python",
   "name": "python3"
  },
  "language_info": {
   "codemirror_mode": {
    "name": "ipython",
    "version": 3
   },
   "file_extension": ".py",
   "mimetype": "text/x-python",
   "name": "python",
   "nbconvert_exporter": "python",
   "pygments_lexer": "ipython3",
   "version": "3.7.7"
  }
 },
 "nbformat": 4,
 "nbformat_minor": 4
}
