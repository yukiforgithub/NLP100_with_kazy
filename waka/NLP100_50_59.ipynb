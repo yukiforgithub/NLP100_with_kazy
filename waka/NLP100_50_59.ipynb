{
 "cells": [
  {
   "cell_type": "markdown",
   "metadata": {},
   "source": [
    "### 第6章: 機械学習 \n",
    "#### 本章では，Fabio Gasparetti氏が公開しているNews Aggregator Data Setを用い，ニュース記事の見出しを「ビジネス」「科学技術」「エンターテイメント」「健康」のカテゴリに分類するタスク（カテゴリ分類）に取り組む．"
   ]
  },
  {
   "cell_type": "markdown",
   "metadata": {},
   "source": [
    "#### 50. データの入手・整形\n",
    "News Aggregator Data Setをダウンロードし、以下の要領で学習データ（train.txt），検証データ（valid.txt），評価データ（test.txt）を作成せよ．\n",
    "\n",
    "ダウンロードしたzipファイルを解凍し，readme.txtの説明を読む．\n",
    "情報源（publisher）が”Reuters”, “Huffington Post”, “Businessweek”, “Contactmusic.com”, “Daily Mail”の事例（記事）のみを抽出する．\n",
    "抽出された事例をランダムに並び替える．\n",
    "抽出された事例の80%を学習データ，残りの10%ずつを検証データと評価データに分割し，それぞれtrain.txt，valid.txt，test.txtというファイル名で保存する．ファイルには，１行に１事例を書き出すこととし，カテゴリ名と記事見出しのタブ区切り形式とせよ（このファイルは後に問題70で再利用する）．\n",
    "\n",
    "学習データと評価データを作成したら，各カテゴリの事例数を確認せよ．"
   ]
  },
  {
   "cell_type": "code",
   "execution_count": 1,
   "metadata": {},
   "outputs": [],
   "source": [
    "import numpy as np\n",
    "import pandas as pd "
   ]
  },
  {
   "cell_type": "code",
   "execution_count": 2,
   "metadata": {},
   "outputs": [],
   "source": [
    "with open(\"NewsAggregatorDataset/newsCorpora.csv\", 'r',encoding='utf-8') as f:\n",
    "    text_ori = f.readlines()\n",
    "text_list=[text.split(\"\\t\") for text in text_ori]\n",
    "text_df=pd.DataFrame(\n",
    "    text_list,\n",
    "    columns=[\"ID\",\"TITLE\",\"URL\",\"PUBLISHER\",\"CATEGORY\",\"STORY\",\"HOSTNAME\",\"TIMESTAMP\"]\n",
    ")\n",
    "text_5pub_df=text_df[text_df[\"PUBLISHER\"].isin([\"Reuters\",\"Huffington Post\",\"Businessweek\",\"Contactmusic.com\",\"Daily Mail\"])].reset_index(drop=True)\n",
    "text_5pub_df_shuffled=text_5pub_df.sample(frac=1).reset_index(drop=True)\n",
    "text_5pub_df_shuffled_for_save=text_5pub_df_shuffled[[\"CATEGORY\",\"TITLE\"]]\n",
    "_text_5pub_df_shuffled_for_save=[\"\\t\".join(list(_))+\"\\n\" for _ in text_5pub_df_shuffled_for_save.values]"
   ]
  },
  {
   "cell_type": "code",
   "execution_count": 3,
   "metadata": {
    "scrolled": true
   },
   "outputs": [],
   "source": [
    "import math\n",
    "len_total=len(_text_5pub_df_shuffled_for_save)\n",
    "len_train=math.ceil(len_total*0.8)\n",
    "len_val=math.ceil(len_total*0.1)\n",
    "train=_text_5pub_df_shuffled_for_save[:len_train]\n",
    "val=_text_5pub_df_shuffled_for_save[len_train:len_train+len_val]\n",
    "test=_text_5pub_df_shuffled_for_save[len_train+len_val:]\n",
    "\n",
    "import os\n",
    "file=\"train.txt\"\n",
    "if os.path.exists(file):\n",
    "    os.remove(file)\n",
    "for rw in train:\n",
    "    with open(file,mode=\"a\",encoding=\"utf-8\") as f:\n",
    "        f.write(rw)\n",
    "        f.close()\n",
    "file=\"valid.txt\"\n",
    "if os.path.exists(file):\n",
    "    os.remove(file)\n",
    "for rw in val:\n",
    "    with open(file,mode=\"a\",encoding=\"utf-8\") as f:\n",
    "        f.write(rw)\n",
    "        f.close()\n",
    "file=\"test.txt\"\n",
    "if os.path.exists(file):\n",
    "    os.remove(file)\n",
    "for rw in test:\n",
    "    with open(file,mode=\"a\",encoding=\"utf-8\") as f:\n",
    "        f.write(rw)\n",
    "        f.close()"
   ]
  },
  {
   "cell_type": "code",
   "execution_count": 4,
   "metadata": {},
   "outputs": [
    {
     "name": "stdout",
     "output_type": "stream",
     "text": [
      "category train {'e': 4229, 'b': 4485, 'm': 757, 't': 1214}\n",
      "category val {'e': 519, 't': 157, 'b': 579, 'm': 81}\n",
      "category test {'b': 563, 'e': 546, 't': 154, 'm': 72}\n"
     ]
    }
   ],
   "source": [
    "text_5pub_df_shuffled_for_save_train=text_5pub_df_shuffled_for_save.iloc[:len_train].reset_index(drop=True)\n",
    "text_5pub_df_shuffled_for_save_val=text_5pub_df_shuffled_for_save.iloc[len_train:len_train+len_val].reset_index(drop=True)\n",
    "text_5pub_df_shuffled_for_save_test=text_5pub_df_shuffled_for_save.iloc[len_train+len_val:].reset_index(drop=True)\n",
    "from collections import Counter\n",
    "count_train=Counter(text_5pub_df_shuffled_for_save_train[\"CATEGORY\"])\n",
    "count_val=Counter(text_5pub_df_shuffled_for_save_val[\"CATEGORY\"])\n",
    "count_test=Counter(text_5pub_df_shuffled_for_save_test[\"CATEGORY\"])\n",
    "print(\"category train\",dict(count_train))\n",
    "print(\"category val\",dict(count_val))\n",
    "print(\"category test\",dict(count_test))"
   ]
  },
  {
   "cell_type": "markdown",
   "metadata": {},
   "source": [
    "#### 51. 特徴量抽出\n",
    "学習データ，検証データ，評価データから特徴量を抽出し，それぞれtrain.feature.txt，valid.feature.txt，test.feature.txtというファイル名で保存せよ． なお，カテゴリ分類に有用そうな特徴量は各自で自由に設計せよ．記事の見出しを単語列に変換したものが最低限のベースラインとなるであろう．"
   ]
  },
  {
   "cell_type": "code",
   "execution_count": 163,
   "metadata": {},
   "outputs": [],
   "source": [
    "from sklearn.feature_extraction.text import CountVectorizer\n",
    "sample = text_5pub_df_shuffled_for_save.TITLE.values\n",
    "# CountVectorizer\n",
    "vec_count = CountVectorizer()\n",
    "# ベクトル化\n",
    "vec_count.fit(sample)\n",
    "X = vec_count.transform(sample)\n",
    "X_df=pd.DataFrame(X.toarray(), columns=vec_count.get_feature_names())"
   ]
  },
  {
   "cell_type": "code",
   "execution_count": 106,
   "metadata": {},
   "outputs": [],
   "source": [
    "X_train_feature=X_df.iloc[:len_train].values\n",
    "X_val_feature=X_df.iloc[len_train:len_train+len_val].values\n",
    "X_test_feature=X_df.iloc[len_train+len_val:].values"
   ]
  },
  {
   "cell_type": "markdown",
   "metadata": {},
   "source": [
    "np.savetxt(\"train.feature.txt\",X_train_feature)\n",
    "np.savetxt(\"valid.feature.txt\",X_val_feature)\n",
    "np.savetxt(\"test.feature.txt\",X_test_feature)"
   ]
  },
  {
   "cell_type": "markdown",
   "metadata": {},
   "source": [
    "#### 52"
   ]
  },
  {
   "cell_type": "code",
   "execution_count": 176,
   "metadata": {},
   "outputs": [],
   "source": [
    "label_dict={\n",
    "    \"b\":0,\n",
    "    \"e\":1,\n",
    "    \"m\":2,\n",
    "    \"t\":3\n",
    "}"
   ]
  },
  {
   "cell_type": "code",
   "execution_count": 175,
   "metadata": {},
   "outputs": [
    {
     "data": {
      "text/plain": [
       "0"
      ]
     },
     "execution_count": 175,
     "metadata": {},
     "output_type": "execute_result"
    }
   ],
   "source": [
    "label_dict[\"b\"]"
   ]
  },
  {
   "cell_type": "code",
   "execution_count": 179,
   "metadata": {},
   "outputs": [],
   "source": [
    "def create_y(df):\n",
    "    idx=-1\n",
    "    y=np.zeros((len(df)))\n",
    "    for lbl in df.CATEGORY:\n",
    "        idx+=1\n",
    "        y[idx]=label_dict[lbl]\n",
    "    return y"
   ]
  },
  {
   "cell_type": "code",
   "execution_count": 180,
   "metadata": {},
   "outputs": [],
   "source": [
    "y_train=create_y(text_5pub_df_shuffled_for_save_train)\n",
    "y_val=create_y(text_5pub_df_shuffled_for_save_val)\n",
    "y_test=create_y(text_5pub_df_shuffled_for_save_test)"
   ]
  },
  {
   "cell_type": "code",
   "execution_count": 181,
   "metadata": {
    "scrolled": false
   },
   "outputs": [
    {
     "name": "stderr",
     "output_type": "stream",
     "text": [
      "C:\\Users\\USER\\anaconda3\\envs\\Mecab\\lib\\site-packages\\sklearn\\linear_model\\_logistic.py:764: ConvergenceWarning: lbfgs failed to converge (status=1):\n",
      "STOP: TOTAL NO. of ITERATIONS REACHED LIMIT.\n",
      "\n",
      "Increase the number of iterations (max_iter) or scale the data as shown in:\n",
      "    https://scikit-learn.org/stable/modules/preprocessing.html\n",
      "Please also refer to the documentation for alternative solver options:\n",
      "    https://scikit-learn.org/stable/modules/linear_model.html#logistic-regression\n",
      "  extra_warning_msg=_LOGISTIC_SOLVER_CONVERGENCE_MSG)\n"
     ]
    }
   ],
   "source": [
    "from sklearn.linear_model import LogisticRegression\n",
    "LR = LogisticRegression().fit(X_train_feature, y_train)"
   ]
  },
  {
   "cell_type": "markdown",
   "metadata": {},
   "source": [
    "#### 53"
   ]
  },
  {
   "cell_type": "code",
   "execution_count": 189,
   "metadata": {},
   "outputs": [],
   "source": [
    "title=np.array([text_5pub_df_shuffled_for_save.TITLE.values[567]])\n",
    "X_trial=pd.DataFrame(vec_count.transform(title).toarray()).values\n",
    "pred=LR.predict(X_trial)\n",
    "label_dict_ops = dict([(v, k) for k, v in label_dict.items()])\n",
    "print(label_dict_ops[pred[0]])"
   ]
  },
  {
   "cell_type": "markdown",
   "metadata": {},
   "source": [
    "#### 54"
   ]
  },
  {
   "cell_type": "code",
   "execution_count": 198,
   "metadata": {},
   "outputs": [],
   "source": [
    "pred_train=LR.predict(X_train_feature)\n",
    "pred_val=LR.predict(X_val_feature)\n",
    "pred_test=LR.predict(X_test_feature)"
   ]
  },
  {
   "cell_type": "code",
   "execution_count": 199,
   "metadata": {},
   "outputs": [
    {
     "name": "stdout",
     "output_type": "stream",
     "text": [
      "train_acc:  0.9962564342536265\n",
      "val_acc:  0.9236526946107785\n",
      "test_acc:  0.900374531835206\n"
     ]
    }
   ],
   "source": [
    "from sklearn.metrics import accuracy_score\n",
    "print(\"train_acc: \",accuracy_score(y_train,pred_train))\n",
    "print(\"val_acc: \",accuracy_score(y_val,pred_val))\n",
    "print(\"test_acc: \",accuracy_score(y_test,pred_test))"
   ]
  },
  {
   "cell_type": "markdown",
   "metadata": {},
   "source": [
    "#### 55"
   ]
  },
  {
   "cell_type": "code",
   "execution_count": 223,
   "metadata": {},
   "outputs": [],
   "source": [
    "from IPython.display import display\n",
    "from sklearn.metrics import confusion_matrix\n",
    "def conf_df(t,y):\n",
    "    conf=pd.DataFrame(confusion_matrix(t,y,labels=[0,1,2,3]),columns=[\"b\",\"e\",\"m\",\"t\"],index=[\"b\",\"e\",\"m\",\"t\"])\n",
    "    conf.index.name = \"act\"\n",
    "    conf.columns.name = \"pred\"\n",
    "    display(conf)"
   ]
  },
  {
   "cell_type": "code",
   "execution_count": 227,
   "metadata": {},
   "outputs": [
    {
     "data": {
      "text/html": [
       "<div>\n",
       "<style scoped>\n",
       "    .dataframe tbody tr th:only-of-type {\n",
       "        vertical-align: middle;\n",
       "    }\n",
       "\n",
       "    .dataframe tbody tr th {\n",
       "        vertical-align: top;\n",
       "    }\n",
       "\n",
       "    .dataframe thead th {\n",
       "        text-align: right;\n",
       "    }\n",
       "</style>\n",
       "<table border=\"1\" class=\"dataframe\">\n",
       "  <thead>\n",
       "    <tr style=\"text-align: right;\">\n",
       "      <th>pred</th>\n",
       "      <th>b</th>\n",
       "      <th>e</th>\n",
       "      <th>m</th>\n",
       "      <th>t</th>\n",
       "    </tr>\n",
       "    <tr>\n",
       "      <th>act</th>\n",
       "      <th></th>\n",
       "      <th></th>\n",
       "      <th></th>\n",
       "      <th></th>\n",
       "    </tr>\n",
       "  </thead>\n",
       "  <tbody>\n",
       "    <tr>\n",
       "      <th>b</th>\n",
       "      <td>4477</td>\n",
       "      <td>2</td>\n",
       "      <td>1</td>\n",
       "      <td>5</td>\n",
       "    </tr>\n",
       "    <tr>\n",
       "      <th>e</th>\n",
       "      <td>6</td>\n",
       "      <td>4221</td>\n",
       "      <td>0</td>\n",
       "      <td>2</td>\n",
       "    </tr>\n",
       "    <tr>\n",
       "      <th>m</th>\n",
       "      <td>3</td>\n",
       "      <td>3</td>\n",
       "      <td>751</td>\n",
       "      <td>0</td>\n",
       "    </tr>\n",
       "    <tr>\n",
       "      <th>t</th>\n",
       "      <td>14</td>\n",
       "      <td>4</td>\n",
       "      <td>0</td>\n",
       "      <td>1196</td>\n",
       "    </tr>\n",
       "  </tbody>\n",
       "</table>\n",
       "</div>"
      ],
      "text/plain": [
       "pred     b     e    m     t\n",
       "act                        \n",
       "b     4477     2    1     5\n",
       "e        6  4221    0     2\n",
       "m        3     3  751     0\n",
       "t       14     4    0  1196"
      ]
     },
     "metadata": {},
     "output_type": "display_data"
    },
    {
     "data": {
      "text/html": [
       "<div>\n",
       "<style scoped>\n",
       "    .dataframe tbody tr th:only-of-type {\n",
       "        vertical-align: middle;\n",
       "    }\n",
       "\n",
       "    .dataframe tbody tr th {\n",
       "        vertical-align: top;\n",
       "    }\n",
       "\n",
       "    .dataframe thead th {\n",
       "        text-align: right;\n",
       "    }\n",
       "</style>\n",
       "<table border=\"1\" class=\"dataframe\">\n",
       "  <thead>\n",
       "    <tr style=\"text-align: right;\">\n",
       "      <th>pred</th>\n",
       "      <th>b</th>\n",
       "      <th>e</th>\n",
       "      <th>m</th>\n",
       "      <th>t</th>\n",
       "    </tr>\n",
       "    <tr>\n",
       "      <th>act</th>\n",
       "      <th></th>\n",
       "      <th></th>\n",
       "      <th></th>\n",
       "      <th></th>\n",
       "    </tr>\n",
       "  </thead>\n",
       "  <tbody>\n",
       "    <tr>\n",
       "      <th>b</th>\n",
       "      <td>548</td>\n",
       "      <td>16</td>\n",
       "      <td>3</td>\n",
       "      <td>12</td>\n",
       "    </tr>\n",
       "    <tr>\n",
       "      <th>e</th>\n",
       "      <td>7</td>\n",
       "      <td>511</td>\n",
       "      <td>0</td>\n",
       "      <td>1</td>\n",
       "    </tr>\n",
       "    <tr>\n",
       "      <th>m</th>\n",
       "      <td>7</td>\n",
       "      <td>10</td>\n",
       "      <td>61</td>\n",
       "      <td>3</td>\n",
       "    </tr>\n",
       "    <tr>\n",
       "      <th>t</th>\n",
       "      <td>23</td>\n",
       "      <td>17</td>\n",
       "      <td>3</td>\n",
       "      <td>114</td>\n",
       "    </tr>\n",
       "  </tbody>\n",
       "</table>\n",
       "</div>"
      ],
      "text/plain": [
       "pred    b    e   m    t\n",
       "act                    \n",
       "b     548   16   3   12\n",
       "e       7  511   0    1\n",
       "m       7   10  61    3\n",
       "t      23   17   3  114"
      ]
     },
     "metadata": {},
     "output_type": "display_data"
    },
    {
     "data": {
      "text/html": [
       "<div>\n",
       "<style scoped>\n",
       "    .dataframe tbody tr th:only-of-type {\n",
       "        vertical-align: middle;\n",
       "    }\n",
       "\n",
       "    .dataframe tbody tr th {\n",
       "        vertical-align: top;\n",
       "    }\n",
       "\n",
       "    .dataframe thead th {\n",
       "        text-align: right;\n",
       "    }\n",
       "</style>\n",
       "<table border=\"1\" class=\"dataframe\">\n",
       "  <thead>\n",
       "    <tr style=\"text-align: right;\">\n",
       "      <th>pred</th>\n",
       "      <th>b</th>\n",
       "      <th>e</th>\n",
       "      <th>m</th>\n",
       "      <th>t</th>\n",
       "    </tr>\n",
       "    <tr>\n",
       "      <th>act</th>\n",
       "      <th></th>\n",
       "      <th></th>\n",
       "      <th></th>\n",
       "      <th></th>\n",
       "    </tr>\n",
       "  </thead>\n",
       "  <tbody>\n",
       "    <tr>\n",
       "      <th>b</th>\n",
       "      <td>527</td>\n",
       "      <td>19</td>\n",
       "      <td>0</td>\n",
       "      <td>17</td>\n",
       "    </tr>\n",
       "    <tr>\n",
       "      <th>e</th>\n",
       "      <td>7</td>\n",
       "      <td>532</td>\n",
       "      <td>4</td>\n",
       "      <td>3</td>\n",
       "    </tr>\n",
       "    <tr>\n",
       "      <th>m</th>\n",
       "      <td>13</td>\n",
       "      <td>12</td>\n",
       "      <td>41</td>\n",
       "      <td>6</td>\n",
       "    </tr>\n",
       "    <tr>\n",
       "      <th>t</th>\n",
       "      <td>32</td>\n",
       "      <td>17</td>\n",
       "      <td>3</td>\n",
       "      <td>102</td>\n",
       "    </tr>\n",
       "  </tbody>\n",
       "</table>\n",
       "</div>"
      ],
      "text/plain": [
       "pred    b    e   m    t\n",
       "act                    \n",
       "b     527   19   0   17\n",
       "e       7  532   4    3\n",
       "m      13   12  41    6\n",
       "t      32   17   3  102"
      ]
     },
     "metadata": {},
     "output_type": "display_data"
    }
   ],
   "source": [
    "conf_df(y_train,pred_train)\n",
    "conf_df(y_val,pred_val)\n",
    "conf_df(y_test,pred_test)"
   ]
  },
  {
   "cell_type": "code",
   "execution_count": null,
   "metadata": {},
   "outputs": [],
   "source": []
  }
 ],
 "metadata": {
  "kernelspec": {
   "display_name": "Python 3",
   "language": "python",
   "name": "python3"
  },
  "language_info": {
   "codemirror_mode": {
    "name": "ipython",
    "version": 3
   },
   "file_extension": ".py",
   "mimetype": "text/x-python",
   "name": "python",
   "nbconvert_exporter": "python",
   "pygments_lexer": "ipython3",
   "version": "3.7.7"
  }
 },
 "nbformat": 4,
 "nbformat_minor": 4
}
