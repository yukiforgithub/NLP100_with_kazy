{
 "cells": [
  {
   "cell_type": "markdown",
   "metadata": {},
   "source": [
    "### 第6章: 機械学習 \n",
    "#### 本章では，Fabio Gasparetti氏が公開しているNews Aggregator Data Setを用い，ニュース記事の見出しを「ビジネス」「科学技術」「エンターテイメント」「健康」のカテゴリに分類するタスク（カテゴリ分類）に取り組む．"
   ]
  },
  {
   "cell_type": "markdown",
   "metadata": {},
   "source": [
    "#### 50. データの入手・整形\n",
    "News Aggregator Data Setをダウンロードし、以下の要領で学習データ（train.txt），検証データ（valid.txt），評価データ（test.txt）を作成せよ．\n",
    "\n",
    "ダウンロードしたzipファイルを解凍し，readme.txtの説明を読む．\n",
    "情報源（publisher）が”Reuters”, “Huffington Post”, “Businessweek”, “Contactmusic.com”, “Daily Mail”の事例（記事）のみを抽出する．\n",
    "抽出された事例をランダムに並び替える．\n",
    "抽出された事例の80%を学習データ，残りの10%ずつを検証データと評価データに分割し，それぞれtrain.txt，valid.txt，test.txtというファイル名で保存する．ファイルには，１行に１事例を書き出すこととし，カテゴリ名と記事見出しのタブ区切り形式とせよ（このファイルは後に問題70で再利用する）．\n",
    "\n",
    "学習データと評価データを作成したら，各カテゴリの事例数を確認せよ．"
   ]
  },
  {
   "cell_type": "code",
   "execution_count": 1,
   "metadata": {},
   "outputs": [],
   "source": [
    "import numpy as np\n",
    "import pandas as pd "
   ]
  },
  {
   "cell_type": "code",
   "execution_count": 2,
   "metadata": {},
   "outputs": [],
   "source": [
    "with open(\"NewsAggregatorDataset/newsCorpora.csv\", 'r',encoding='utf-8') as f:\n",
    "    text_ori = f.readlines()\n",
    "text_list=[text.split(\"\\t\") for text in text_ori]\n",
    "text_df=pd.DataFrame(\n",
    "    text_list,\n",
    "    columns=[\"ID\",\"TITLE\",\"URL\",\"PUBLISHER\",\"CATEGORY\",\"STORY\",\"HOSTNAME\",\"TIMESTAMP\"]\n",
    ")\n",
    "text_5pub_df=text_df[text_df[\"PUBLISHER\"].isin([\"Reuters\",\"Huffington Post\",\"Businessweek\",\"Contactmusic.com\",\"Daily Mail\"])].reset_index(drop=True)\n",
    "text_5pub_df_shuffled=text_5pub_df.sample(frac=1).reset_index(drop=True)\n",
    "text_5pub_df_shuffled_for_save=text_5pub_df_shuffled[[\"CATEGORY\",\"TITLE\"]]\n",
    "_text_5pub_df_shuffled_for_save=[\"\\t\".join(list(_))+\"\\n\" for _ in text_5pub_df_shuffled_for_save.values]"
   ]
  },
  {
   "cell_type": "code",
   "execution_count": 3,
   "metadata": {
    "scrolled": true
   },
   "outputs": [],
   "source": [
    "import math\n",
    "len_total=len(_text_5pub_df_shuffled_for_save)\n",
    "len_train=math.ceil(len_total*0.8)\n",
    "len_val=math.ceil(len_total*0.1)\n",
    "train=_text_5pub_df_shuffled_for_save[:len_train]\n",
    "val=_text_5pub_df_shuffled_for_save[len_train:len_train+len_val]\n",
    "test=_text_5pub_df_shuffled_for_save[len_train+len_val:]\n",
    "\n",
    "import os\n",
    "file=\"train.txt\"\n",
    "if os.path.exists(file):\n",
    "    os.remove(file)\n",
    "for rw in train:\n",
    "    with open(file,mode=\"a\",encoding=\"utf-8\") as f:\n",
    "        f.write(rw)\n",
    "\n",
    "file=\"valid.txt\"\n",
    "if os.path.exists(file):\n",
    "    os.remove(file)\n",
    "for rw in val:\n",
    "    with open(file,mode=\"a\",encoding=\"utf-8\") as f:\n",
    "        f.write(rw)\n",
    "\n",
    "file=\"test.txt\"\n",
    "if os.path.exists(file):\n",
    "    os.remove(file)\n",
    "for rw in test:\n",
    "    with open(file,mode=\"a\",encoding=\"utf-8\") as f:\n",
    "        f.write(rw)"
   ]
  },
  {
   "cell_type": "code",
   "execution_count": 4,
   "metadata": {},
   "outputs": [
    {
     "name": "stdout",
     "output_type": "stream",
     "text": [
      "category train {'m': 738, 'b': 4478, 'e': 4227, 't': 1242}\n",
      "category val {'b': 578, 't': 128, 'e': 550, 'm': 80}\n",
      "category test {'b': 571, 'e': 517, 'm': 92, 't': 155}\n"
     ]
    }
   ],
   "source": [
    "text_5pub_df_shuffled_for_save_train=text_5pub_df_shuffled_for_save.iloc[:len_train].reset_index(drop=True)\n",
    "text_5pub_df_shuffled_for_save_val=text_5pub_df_shuffled_for_save.iloc[len_train:len_train+len_val].reset_index(drop=True)\n",
    "text_5pub_df_shuffled_for_save_test=text_5pub_df_shuffled_for_save.iloc[len_train+len_val:].reset_index(drop=True)\n",
    "from collections import Counter\n",
    "count_train=Counter(text_5pub_df_shuffled_for_save_train[\"CATEGORY\"])\n",
    "count_val=Counter(text_5pub_df_shuffled_for_save_val[\"CATEGORY\"])\n",
    "count_test=Counter(text_5pub_df_shuffled_for_save_test[\"CATEGORY\"])\n",
    "print(\"category train\",dict(count_train))\n",
    "print(\"category val\",dict(count_val))\n",
    "print(\"category test\",dict(count_test))"
   ]
  },
  {
   "cell_type": "markdown",
   "metadata": {},
   "source": [
    "#### 51. 特徴量抽出\n",
    "学習データ，検証データ，評価データから特徴量を抽出し，それぞれtrain.feature.txt，valid.feature.txt，test.feature.txtというファイル名で保存せよ． なお，カテゴリ分類に有用そうな特徴量は各自で自由に設計せよ．記事の見出しを単語列に変換したものが最低限のベースラインとなるであろう．"
   ]
  },
  {
   "cell_type": "code",
   "execution_count": 5,
   "metadata": {},
   "outputs": [],
   "source": [
    "from sklearn.feature_extraction.text import CountVectorizer\n",
    "sample = text_5pub_df_shuffled_for_save.TITLE.values\n",
    "# CountVectorizer\n",
    "vec_count = CountVectorizer()\n",
    "# ベクトル化\n",
    "vec_count.fit(sample)\n",
    "X = vec_count.transform(sample)\n",
    "X_df=pd.DataFrame(X.toarray(), columns=vec_count.get_feature_names())"
   ]
  },
  {
   "cell_type": "code",
   "execution_count": 6,
   "metadata": {},
   "outputs": [],
   "source": [
    "X_train_feature=X_df.iloc[:len_train].values\n",
    "X_val_feature=X_df.iloc[len_train:len_train+len_val].values\n",
    "X_test_feature=X_df.iloc[len_train+len_val:].values"
   ]
  },
  {
   "cell_type": "markdown",
   "metadata": {},
   "source": [
    "np.savetxt(\"train.feature.txt\",X_train_feature)\n",
    "np.savetxt(\"valid.feature.txt\",X_val_feature)\n",
    "np.savetxt(\"test.feature.txt\",X_test_feature)"
   ]
  },
  {
   "cell_type": "markdown",
   "metadata": {},
   "source": [
    "#### 52"
   ]
  },
  {
   "cell_type": "code",
   "execution_count": 7,
   "metadata": {},
   "outputs": [],
   "source": [
    "label_dict={\n",
    "    \"b\":0,\n",
    "    \"e\":1,\n",
    "    \"m\":2,\n",
    "    \"t\":3\n",
    "}"
   ]
  },
  {
   "cell_type": "code",
   "execution_count": 8,
   "metadata": {},
   "outputs": [],
   "source": [
    "def create_y(df):\n",
    "    idx=-1\n",
    "    y=np.zeros((len(df)))\n",
    "    for lbl in df.CATEGORY:\n",
    "        idx+=1\n",
    "        y[idx]=label_dict[lbl]\n",
    "    return y"
   ]
  },
  {
   "cell_type": "code",
   "execution_count": 9,
   "metadata": {},
   "outputs": [],
   "source": [
    "y_train=create_y(text_5pub_df_shuffled_for_save_train)\n",
    "y_val=create_y(text_5pub_df_shuffled_for_save_val)\n",
    "y_test=create_y(text_5pub_df_shuffled_for_save_test)"
   ]
  },
  {
   "cell_type": "code",
   "execution_count": 10,
   "metadata": {
    "scrolled": false
   },
   "outputs": [
    {
     "data": {
      "text/plain": [
       "LogisticRegression(max_iter=200)"
      ]
     },
     "execution_count": 10,
     "metadata": {},
     "output_type": "execute_result"
    }
   ],
   "source": [
    "from sklearn.linear_model import LogisticRegression\n",
    "LR = LogisticRegression(max_iter=200)\n",
    "LR.fit(X_train_feature, y_train)"
   ]
  },
  {
   "cell_type": "markdown",
   "metadata": {},
   "source": [
    "#### 53"
   ]
  },
  {
   "cell_type": "code",
   "execution_count": 11,
   "metadata": {},
   "outputs": [
    {
     "name": "stdout",
     "output_type": "stream",
     "text": [
      "e\n"
     ]
    }
   ],
   "source": [
    "title=np.array([text_5pub_df_shuffled_for_save.TITLE.values[567]])\n",
    "title=np.array([\"science is important your life\"])\n",
    "\n",
    "X_trial=pd.DataFrame(vec_count.transform(title).toarray()).values\n",
    "pred=LR.predict(X_trial)\n",
    "label_dict_ops = dict([(v, k) for k, v in label_dict.items()])\n",
    "print(label_dict_ops[pred[0]])"
   ]
  },
  {
   "cell_type": "markdown",
   "metadata": {},
   "source": [
    "#### 54"
   ]
  },
  {
   "cell_type": "code",
   "execution_count": 12,
   "metadata": {},
   "outputs": [],
   "source": [
    "pred_train=LR.predict(X_train_feature)\n",
    "pred_val=LR.predict(X_val_feature)\n",
    "pred_test=LR.predict(X_test_feature)"
   ]
  },
  {
   "cell_type": "code",
   "execution_count": 13,
   "metadata": {},
   "outputs": [
    {
     "name": "stdout",
     "output_type": "stream",
     "text": [
      "train_acc:  0.996350023397286\n",
      "val_acc:  0.9101796407185628\n",
      "test_acc:  0.9093632958801499\n"
     ]
    }
   ],
   "source": [
    "from sklearn.metrics import accuracy_score\n",
    "print(\"train_acc: \",accuracy_score(y_train,pred_train))\n",
    "print(\"val_acc: \",accuracy_score(y_val,pred_val))\n",
    "print(\"test_acc: \",accuracy_score(y_test,pred_test))"
   ]
  },
  {
   "cell_type": "markdown",
   "metadata": {},
   "source": [
    "#### 55"
   ]
  },
  {
   "cell_type": "code",
   "execution_count": 14,
   "metadata": {},
   "outputs": [],
   "source": [
    "from IPython.display import display\n",
    "from sklearn.metrics import confusion_matrix\n",
    "def conf_df(t,y):\n",
    "    conf=pd.DataFrame(confusion_matrix(t,y,labels=[0,1,2,3]),columns=[\"b\",\"e\",\"m\",\"t\"],index=[\"b\",\"e\",\"m\",\"t\"])\n",
    "    conf.index.name = \"act\"\n",
    "    conf.columns.name = \"pred\"\n",
    "    display(conf)"
   ]
  },
  {
   "cell_type": "code",
   "execution_count": 15,
   "metadata": {},
   "outputs": [
    {
     "data": {
      "text/html": [
       "<div>\n",
       "<style scoped>\n",
       "    .dataframe tbody tr th:only-of-type {\n",
       "        vertical-align: middle;\n",
       "    }\n",
       "\n",
       "    .dataframe tbody tr th {\n",
       "        vertical-align: top;\n",
       "    }\n",
       "\n",
       "    .dataframe thead th {\n",
       "        text-align: right;\n",
       "    }\n",
       "</style>\n",
       "<table border=\"1\" class=\"dataframe\">\n",
       "  <thead>\n",
       "    <tr style=\"text-align: right;\">\n",
       "      <th>pred</th>\n",
       "      <th>b</th>\n",
       "      <th>e</th>\n",
       "      <th>m</th>\n",
       "      <th>t</th>\n",
       "    </tr>\n",
       "    <tr>\n",
       "      <th>act</th>\n",
       "      <th></th>\n",
       "      <th></th>\n",
       "      <th></th>\n",
       "      <th></th>\n",
       "    </tr>\n",
       "  </thead>\n",
       "  <tbody>\n",
       "    <tr>\n",
       "      <th>b</th>\n",
       "      <td>4481</td>\n",
       "      <td>3</td>\n",
       "      <td>0</td>\n",
       "      <td>7</td>\n",
       "    </tr>\n",
       "    <tr>\n",
       "      <th>e</th>\n",
       "      <td>5</td>\n",
       "      <td>4259</td>\n",
       "      <td>1</td>\n",
       "      <td>1</td>\n",
       "    </tr>\n",
       "    <tr>\n",
       "      <th>m</th>\n",
       "      <td>2</td>\n",
       "      <td>2</td>\n",
       "      <td>730</td>\n",
       "      <td>0</td>\n",
       "    </tr>\n",
       "    <tr>\n",
       "      <th>t</th>\n",
       "      <td>16</td>\n",
       "      <td>2</td>\n",
       "      <td>0</td>\n",
       "      <td>1176</td>\n",
       "    </tr>\n",
       "  </tbody>\n",
       "</table>\n",
       "</div>"
      ],
      "text/plain": [
       "pred     b     e    m     t\n",
       "act                        \n",
       "b     4481     3    0     7\n",
       "e        5  4259    1     1\n",
       "m        2     2  730     0\n",
       "t       16     2    0  1176"
      ]
     },
     "metadata": {},
     "output_type": "display_data"
    },
    {
     "data": {
      "text/html": [
       "<div>\n",
       "<style scoped>\n",
       "    .dataframe tbody tr th:only-of-type {\n",
       "        vertical-align: middle;\n",
       "    }\n",
       "\n",
       "    .dataframe tbody tr th {\n",
       "        vertical-align: top;\n",
       "    }\n",
       "\n",
       "    .dataframe thead th {\n",
       "        text-align: right;\n",
       "    }\n",
       "</style>\n",
       "<table border=\"1\" class=\"dataframe\">\n",
       "  <thead>\n",
       "    <tr style=\"text-align: right;\">\n",
       "      <th>pred</th>\n",
       "      <th>b</th>\n",
       "      <th>e</th>\n",
       "      <th>m</th>\n",
       "      <th>t</th>\n",
       "    </tr>\n",
       "    <tr>\n",
       "      <th>act</th>\n",
       "      <th></th>\n",
       "      <th></th>\n",
       "      <th></th>\n",
       "      <th></th>\n",
       "    </tr>\n",
       "  </thead>\n",
       "  <tbody>\n",
       "    <tr>\n",
       "      <th>b</th>\n",
       "      <td>530</td>\n",
       "      <td>18</td>\n",
       "      <td>5</td>\n",
       "      <td>6</td>\n",
       "    </tr>\n",
       "    <tr>\n",
       "      <th>e</th>\n",
       "      <td>11</td>\n",
       "      <td>503</td>\n",
       "      <td>3</td>\n",
       "      <td>6</td>\n",
       "    </tr>\n",
       "    <tr>\n",
       "      <th>m</th>\n",
       "      <td>10</td>\n",
       "      <td>11</td>\n",
       "      <td>69</td>\n",
       "      <td>2</td>\n",
       "    </tr>\n",
       "    <tr>\n",
       "      <th>t</th>\n",
       "      <td>26</td>\n",
       "      <td>20</td>\n",
       "      <td>2</td>\n",
       "      <td>114</td>\n",
       "    </tr>\n",
       "  </tbody>\n",
       "</table>\n",
       "</div>"
      ],
      "text/plain": [
       "pred    b    e   m    t\n",
       "act                    \n",
       "b     530   18   5    6\n",
       "e      11  503   3    6\n",
       "m      10   11  69    2\n",
       "t      26   20   2  114"
      ]
     },
     "metadata": {},
     "output_type": "display_data"
    },
    {
     "data": {
      "text/html": [
       "<div>\n",
       "<style scoped>\n",
       "    .dataframe tbody tr th:only-of-type {\n",
       "        vertical-align: middle;\n",
       "    }\n",
       "\n",
       "    .dataframe tbody tr th {\n",
       "        vertical-align: top;\n",
       "    }\n",
       "\n",
       "    .dataframe thead th {\n",
       "        text-align: right;\n",
       "    }\n",
       "</style>\n",
       "<table border=\"1\" class=\"dataframe\">\n",
       "  <thead>\n",
       "    <tr style=\"text-align: right;\">\n",
       "      <th>pred</th>\n",
       "      <th>b</th>\n",
       "      <th>e</th>\n",
       "      <th>m</th>\n",
       "      <th>t</th>\n",
       "    </tr>\n",
       "    <tr>\n",
       "      <th>act</th>\n",
       "      <th></th>\n",
       "      <th></th>\n",
       "      <th></th>\n",
       "      <th></th>\n",
       "    </tr>\n",
       "  </thead>\n",
       "  <tbody>\n",
       "    <tr>\n",
       "      <th>b</th>\n",
       "      <td>540</td>\n",
       "      <td>15</td>\n",
       "      <td>3</td>\n",
       "      <td>19</td>\n",
       "    </tr>\n",
       "    <tr>\n",
       "      <th>e</th>\n",
       "      <td>10</td>\n",
       "      <td>491</td>\n",
       "      <td>2</td>\n",
       "      <td>2</td>\n",
       "    </tr>\n",
       "    <tr>\n",
       "      <th>m</th>\n",
       "      <td>8</td>\n",
       "      <td>13</td>\n",
       "      <td>57</td>\n",
       "      <td>6</td>\n",
       "    </tr>\n",
       "    <tr>\n",
       "      <th>t</th>\n",
       "      <td>21</td>\n",
       "      <td>20</td>\n",
       "      <td>2</td>\n",
       "      <td>126</td>\n",
       "    </tr>\n",
       "  </tbody>\n",
       "</table>\n",
       "</div>"
      ],
      "text/plain": [
       "pred    b    e   m    t\n",
       "act                    \n",
       "b     540   15   3   19\n",
       "e      10  491   2    2\n",
       "m       8   13  57    6\n",
       "t      21   20   2  126"
      ]
     },
     "metadata": {},
     "output_type": "display_data"
    }
   ],
   "source": [
    "conf_df(y_train,pred_train)\n",
    "conf_df(y_val,pred_val)\n",
    "conf_df(y_test,pred_test)"
   ]
  },
  {
   "cell_type": "markdown",
   "metadata": {},
   "source": [
    "#### 56"
   ]
  },
  {
   "cell_type": "code",
   "execution_count": 16,
   "metadata": {
    "scrolled": true
   },
   "outputs": [
    {
     "name": "stdout",
     "output_type": "stream",
     "text": [
      "test_precision_category:  [0.93264249 0.9109462  0.890625   0.82352941]\n",
      "test_precision_macro:  0.889435773867955\n",
      "test_precision_micro:  0.9093632958801499\n",
      "test_recall_category:  [0.93587522 0.97227723 0.67857143 0.74556213]\n",
      "test_recall_macro:  0.8330715007773744\n",
      "test_recall_micro:  0.9093632958801499\n",
      "test_f1_score:  [0.93425606 0.94061303 0.77027027 0.7826087 ]\n",
      "test_f1_score_macro:  0.8569370120264224\n",
      "test_f1_score_micro:  0.9093632958801499\n"
     ]
    }
   ],
   "source": [
    "from sklearn.metrics import precision_score\n",
    "from sklearn.metrics import recall_score\n",
    "from sklearn.metrics import f1_score\n",
    "print(\"test_precision_category: \",precision_score(y_test,pred_test,average=None))\n",
    "print(\"test_precision_macro: \",precision_score(y_test,pred_test,average='macro'))\n",
    "print(\"test_precision_micro: \",precision_score(y_test,pred_test,average='micro'))\n",
    "\n",
    "print(\"test_recall_category: \",recall_score(y_test,pred_test,average=None))\n",
    "print(\"test_recall_macro: \",recall_score(y_test,pred_test,average='macro'))\n",
    "print(\"test_recall_micro: \",recall_score(y_test,pred_test,average='micro'))\n",
    "\n",
    "print(\"test_f1_score: \",f1_score(y_test,pred_test,average=None))\n",
    "print(\"test_f1_score_macro: \",f1_score(y_test,pred_test,average='macro'))\n",
    "print(\"test_f1_score_micro: \",f1_score(y_test,pred_test,average='micro'))\n"
   ]
  },
  {
   "cell_type": "markdown",
   "metadata": {},
   "source": [
    "#### 57"
   ]
  },
  {
   "cell_type": "code",
   "execution_count": 34,
   "metadata": {},
   "outputs": [],
   "source": [
    "weights=pd.DataFrame(LR.coef_,columns=X_df.columns,index=[\"b\",\"e\",\"m\",\"t\"])"
   ]
  },
  {
   "cell_type": "code",
   "execution_count": 37,
   "metadata": {},
   "outputs": [],
   "source": [
    "def print_weight(category):\n",
    "    print(f\"--{category}--\")\n",
    "    print(\"top10: \",list(weights.loc[category].sort_values().index[-10:]))\n",
    "    print(\"bottom10: \",list(weights.loc[category].sort_values().index[:10]))"
   ]
  },
  {
   "cell_type": "code",
   "execution_count": 38,
   "metadata": {},
   "outputs": [
    {
     "name": "stdout",
     "output_type": "stream",
     "text": [
      "--b--\n",
      "top10:  ['china', 'oil', 'dollar', 'buy', 'ukraine', 'obamacare', 'profit', 'ecb', 'fed', 'bank']\n",
      "bottom10:  ['aereo', 'ebola', 'she', 'subscription', 'recalled', 'her', 'heartbleed', 'pump', 'virus', 'gay']\n",
      "--e--\n",
      "top10:  ['george', 'thrones', 'fans', 'movie', 'miley', 'film', 'hbo', 'paul', 'chris', 'kardashian']\n",
      "bottom10:  ['google', 'microsoft', 'gm', 'facebook', 'china', 'ceo', 'study', 'risk', 'scientists', 'data']\n",
      "--m--\n",
      "top10:  ['medical', 'brain', 'cdc', 'drug', 'study', 'cases', 'mers', 'cancer', 'fda', 'ebola']\n",
      "bottom10:  ['facebook', 'gm', 'dimon', 'amazon', 'climate', 'apple', 'twitter', 'buy', 'bank', 'netflix']\n",
      "--t--\n",
      "top10:  ['fcc', 'nasa', 'gm', 'heartbleed', 'tesla', 'climate', 'apple', 'microsoft', 'google', 'facebook']\n",
      "bottom10:  ['stocks', 'percent', 'spotify', 'valued', 'fed', 'american', 'quarter', 'but', 'cancer', 'ecb']\n"
     ]
    }
   ],
   "source": [
    "print_weight(\"b\")\n",
    "print_weight(\"e\")\n",
    "print_weight(\"m\")\n",
    "print_weight(\"t\")"
   ]
  },
  {
   "cell_type": "markdown",
   "metadata": {},
   "source": [
    "#### 58"
   ]
  },
  {
   "cell_type": "code",
   "execution_count": 55,
   "metadata": {
    "scrolled": false
   },
   "outputs": [],
   "source": [
    "from sklearn.linear_model import LogisticRegression\n",
    "param_C=[1e-2,1e-1,1e+0,1e+1,1e+2]\n",
    "accuracy_accumulator=pd.DataFrame(columns=[param_C],index=[\"train\",\"val\",\"test\"])"
   ]
  },
  {
   "cell_type": "code",
   "execution_count": 56,
   "metadata": {
    "scrolled": true
   },
   "outputs": [
    {
     "name": "stdout",
     "output_type": "stream",
     "text": [
      "train_acc:  0.788582124473561\n",
      "val_acc:  0.749251497005988\n",
      "test_acc:  0.7805243445692884\n",
      "train_acc:  0.929433785680861\n",
      "val_acc:  0.8615269461077845\n",
      "test_acc:  0.8801498127340824\n",
      "train_acc:  0.9962564342536265\n",
      "val_acc:  0.9101796407185628\n",
      "test_acc:  0.9056179775280899\n",
      "train_acc:  0.999157697707066\n",
      "val_acc:  0.9154191616766467\n",
      "test_acc:  0.9146067415730337\n"
     ]
    },
    {
     "name": "stderr",
     "output_type": "stream",
     "text": [
      "C:\\Users\\USER\\anaconda3\\envs\\Mecab\\lib\\site-packages\\sklearn\\linear_model\\_logistic.py:764: ConvergenceWarning: lbfgs failed to converge (status=1):\n",
      "STOP: TOTAL NO. of ITERATIONS REACHED LIMIT.\n",
      "\n",
      "Increase the number of iterations (max_iter) or scale the data as shown in:\n",
      "    https://scikit-learn.org/stable/modules/preprocessing.html\n",
      "Please also refer to the documentation for alternative solver options:\n",
      "    https://scikit-learn.org/stable/modules/linear_model.html#logistic-regression\n",
      "  extra_warning_msg=_LOGISTIC_SOLVER_CONVERGENCE_MSG)\n"
     ]
    },
    {
     "name": "stdout",
     "output_type": "stream",
     "text": [
      "train_acc:  0.9993448759943846\n",
      "val_acc:  0.9116766467065869\n",
      "test_acc:  0.9123595505617977\n"
     ]
    }
   ],
   "source": [
    "for c in param_C:\n",
    "    LR = LogisticRegression(max_iter=200,C=c)\n",
    "    LR.fit(X_train_feature, y_train)\n",
    "    \n",
    "    pred_train=LR.predict(X_train_feature)\n",
    "    pred_val=LR.predict(X_val_feature)\n",
    "    pred_test=LR.predict(X_test_feature)\n",
    "\n",
    "    print(\"train_acc: \",accuracy_score(y_train,pred_train))\n",
    "    print(\"val_acc: \",accuracy_score(y_val,pred_val))\n",
    "    print(\"test_acc: \",accuracy_score(y_test,pred_test))\n",
    "    accuracy_accumulator.loc[\"train\"][c]=accuracy_score(y_train,pred_train)\n",
    "    accuracy_accumulator.loc[\"val\"][c]=accuracy_score(y_val,pred_val)\n",
    "    accuracy_accumulator.loc[\"test\"][c]=accuracy_score(y_test,pred_test)"
   ]
  },
  {
   "cell_type": "code",
   "execution_count": 66,
   "metadata": {
    "scrolled": false
   },
   "outputs": [
    {
     "data": {
      "text/plain": [
       "Text(0, 0.5, 'acc')"
      ]
     },
     "execution_count": 66,
     "metadata": {},
     "output_type": "execute_result"
    },
    {
     "data": {
      "image/png": "[encoded data removed]",
      "text/plain": [
       "<Figure size 432x288 with 1 Axes>"
      ]
     },
     "metadata": {
      "needs_background": "light"
     },
     "output_type": "display_data"
    }
   ],
   "source": [
    "accuracy_accumulator.T.plot(marker=\"o\")\n",
    "plt.xlabel(\"param C\")\n",
    "plt.ylabel(\"acc\")"
   ]
  },
  {
   "cell_type": "markdown",
   "metadata": {},
   "source": [
    "#### 59"
   ]
  },
  {
   "cell_type": "code",
   "execution_count": 17,
   "metadata": {},
   "outputs": [],
   "source": [
    "from sklearn.svm import LinearSVC, SVC\n",
    "from sklearn.tree import DecisionTreeClassifier\n",
    "from sklearn.ensemble import RandomForestClassifier\n",
    "from sklearn.neighbors import KNeighborsClassifier"
   ]
  },
  {
   "cell_type": "code",
   "execution_count": 25,
   "metadata": {},
   "outputs": [],
   "source": [
    "param_LR=[1e-2,1e-1,1e+0,1e+1,1e+2]  # C\n",
    "param_LSVC=[1e-2,1e-1,1e+0,1e+1,1e+2]  # C\n",
    "# param_SVC=[1e-2,1e-1,1e+0,1e+1,1e+2]  # C\n",
    "param_DTC=[5,10,15,20,25]  # max_depth\n",
    "param_RFC=[25,50,100,200,400]  # n_estimators"
   ]
  },
  {
   "cell_type": "code",
   "execution_count": 26,
   "metadata": {},
   "outputs": [],
   "source": [
    "# algo_name_list=[\"LinearSVC\",\"SVC\",\"DecisionTreeClassifier\",\"RandomForestClassifier\"]\n",
    "algo_name_list=[\"LogisticRegression\",\"LinearSVC\",\"DecisionTreeClassifier\",\"RandomForestClassifier\"]\n",
    "param_dict={\"LogisticRegression\":param_LR,\n",
    "            \"LinearSVC\":param_LSVC,\n",
    "           \"SVC\":param_SVC,\n",
    "           \"DecisionTreeClassifier\":param_DTC,\n",
    "           \"RandomForestClassifier\":param_RFC\n",
    "          }"
   ]
  },
  {
   "cell_type": "code",
   "execution_count": 27,
   "metadata": {},
   "outputs": [],
   "source": [
    "def model_build(algo_name,param):\n",
    "    if algo_name==\"LogisticRegression\":\n",
    "        clf=LogisticRegression(max_iter=200,C=param)\n",
    "    elif algo_name==\"LinearSVC\":\n",
    "        clf=LinearSVC(C=param)\n",
    "#     elif algo_name==\"SVC\":\n",
    "#         clf=SVC(C=param)\n",
    "    elif algo_name==\"DecisionTreeClassifier\":\n",
    "        clf=DecisionTreeClassifier(max_depth=param)\n",
    "    elif algo_name==\"RandomForestClassifier\":\n",
    "        clf=RandomForestClassifier(n_estimators=param)\n",
    "    return clf"
   ]
  },
  {
   "cell_type": "code",
   "execution_count": 21,
   "metadata": {},
   "outputs": [],
   "source": [
    "param_search_accumulator=pd.DataFrame(columns=[\"algo_name\",\"param\",\"val_acc\",\"test_acc\"])"
   ]
  },
  {
   "cell_type": "code",
   "execution_count": 22,
   "metadata": {
    "scrolled": true
   },
   "outputs": [
    {
     "name": "stdout",
     "output_type": "stream",
     "text": [
      "model_param: LinearSVC_0.01\n",
      "val_acc:  0.8854790419161677\n",
      "test_acc:  0.8734082397003745\n",
      "model_param: LinearSVC_0.1\n",
      "val_acc:  0.9176646706586826\n",
      "test_acc:  0.9108614232209737\n",
      "model_param: LinearSVC_1.0\n",
      "val_acc:  0.9161676646706587\n",
      "test_acc:  0.9093632958801499\n"
     ]
    },
    {
     "name": "stderr",
     "output_type": "stream",
     "text": [
      "C:\\Users\\USER\\anaconda3\\envs\\Mecab\\lib\\site-packages\\sklearn\\svm\\_base.py:977: ConvergenceWarning: Liblinear failed to converge, increase the number of iterations.\n",
      "  \"the number of iterations.\", ConvergenceWarning)\n"
     ]
    },
    {
     "name": "stdout",
     "output_type": "stream",
     "text": [
      "model_param: LinearSVC_10.0\n",
      "val_acc:  0.9131736526946108\n",
      "test_acc:  0.9063670411985019\n"
     ]
    },
    {
     "name": "stderr",
     "output_type": "stream",
     "text": [
      "C:\\Users\\USER\\anaconda3\\envs\\Mecab\\lib\\site-packages\\sklearn\\svm\\_base.py:977: ConvergenceWarning: Liblinear failed to converge, increase the number of iterations.\n",
      "  \"the number of iterations.\", ConvergenceWarning)\n"
     ]
    },
    {
     "name": "stdout",
     "output_type": "stream",
     "text": [
      "model_param: LinearSVC_100.0\n",
      "val_acc:  0.905688622754491\n",
      "test_acc:  0.8936329588014982\n",
      "model_param: DecisionTreeClassifier_5\n",
      "val_acc:  0.5591317365269461\n",
      "test_acc:  0.5280898876404494\n",
      "model_param: DecisionTreeClassifier_10\n",
      "val_acc:  0.6040419161676647\n",
      "test_acc:  0.5640449438202247\n",
      "model_param: DecisionTreeClassifier_15\n",
      "val_acc:  0.6601796407185628\n",
      "test_acc:  0.6142322097378277\n",
      "model_param: DecisionTreeClassifier_20\n",
      "val_acc:  0.687125748502994\n",
      "test_acc:  0.6449438202247191\n",
      "model_param: DecisionTreeClassifier_25\n",
      "val_acc:  0.7103293413173652\n",
      "test_acc:  0.6719101123595506\n",
      "model_param: RandomForestClassifier_25\n",
      "val_acc:  0.8383233532934131\n",
      "test_acc:  0.8224719101123595\n",
      "model_param: RandomForestClassifier_50\n",
      "val_acc:  0.8540419161676647\n",
      "test_acc:  0.8389513108614233\n",
      "model_param: RandomForestClassifier_100\n",
      "val_acc:  0.8405688622754491\n",
      "test_acc:  0.8352059925093633\n",
      "model_param: RandomForestClassifier_200\n",
      "val_acc:  0.8488023952095808\n",
      "test_acc:  0.8419475655430712\n",
      "model_param: RandomForestClassifier_400\n",
      "val_acc:  0.8502994011976048\n",
      "test_acc:  0.8389513108614233\n"
     ]
    }
   ],
   "source": [
    "for algo_name in algo_name_list:\n",
    "    param_list=param_dict[algo_name]\n",
    "    for param in param_list:\n",
    "# param=param_list[0]\n",
    "\n",
    "        clf=model_build(algo_name,param)\n",
    "        clf.fit(X_train_feature, y_train)\n",
    "        pred_train=clf.predict(X_train_feature)\n",
    "        pred_val=clf.predict(X_val_feature)\n",
    "        pred_test=clf.predict(X_test_feature)\n",
    "        print(f\"model_param: {algo_name}_{param}\")\n",
    "        print(\"val_acc: \",accuracy_score(y_val,pred_val))\n",
    "        print(\"test_acc: \",accuracy_score(y_test,pred_test))\n",
    "        res=[algo_name,param,accuracy_score(y_val,pred_val),accuracy_score(y_test,pred_test)]\n",
    "        res=pd.DataFrame([[algo_name,param,accuracy_score(y_val,pred_val),accuracy_score(y_test,pred_test)]],columns=[\"algo_name\",\"param\",\"val_acc\",\"test_acc\"])\n",
    "        param_search_accumulator=pd.concat([param_search_accumulator,res],axis=0)\n",
    "        param_search_accumulator.to_csv(\"param_search_accumulator.csv\",index=None)"
   ]
  },
  {
   "cell_type": "code",
   "execution_count": 31,
   "metadata": {},
   "outputs": [],
   "source": [
    "param_search_accumulator=pd.read_csv(\"param_search_accumulator.csv\")"
   ]
  },
  {
   "cell_type": "code",
   "execution_count": 42,
   "metadata": {},
   "outputs": [
    {
     "data": {
      "text/html": [
       "<div>\n",
       "<style scoped>\n",
       "    .dataframe tbody tr th:only-of-type {\n",
       "        vertical-align: middle;\n",
       "    }\n",
       "\n",
       "    .dataframe tbody tr th {\n",
       "        vertical-align: top;\n",
       "    }\n",
       "\n",
       "    .dataframe thead th {\n",
       "        text-align: right;\n",
       "    }\n",
       "</style>\n",
       "<table border=\"1\" class=\"dataframe\">\n",
       "  <thead>\n",
       "    <tr style=\"text-align: right;\">\n",
       "      <th></th>\n",
       "      <th>algo_name</th>\n",
       "      <th>param</th>\n",
       "      <th>val_acc</th>\n",
       "      <th>test_acc</th>\n",
       "    </tr>\n",
       "  </thead>\n",
       "  <tbody>\n",
       "    <tr>\n",
       "      <th>6</th>\n",
       "      <td>LinearSVC</td>\n",
       "      <td>0.1</td>\n",
       "      <td>0.917665</td>\n",
       "      <td>0.910861</td>\n",
       "    </tr>\n",
       "  </tbody>\n",
       "</table>\n",
       "</div>"
      ],
      "text/plain": [
       "   algo_name  param   val_acc  test_acc\n",
       "6  LinearSVC    0.1  0.917665  0.910861"
      ]
     },
     "execution_count": 42,
     "metadata": {},
     "output_type": "execute_result"
    }
   ],
   "source": [
    "param_search_accumulator.sort_values(\"val_acc\",ascending=False).iloc[:1]"
   ]
  }
 ],
 "metadata": {
  "kernelspec": {
   "display_name": "Python 3",
   "language": "python",
   "name": "python3"
  },
  "language_info": {
   "codemirror_mode": {
    "name": "ipython",
    "version": 3
   },
   "file_extension": ".py",
   "mimetype": "text/x-python",
   "name": "python",
   "nbconvert_exporter": "python",
   "pygments_lexer": "ipython3",
   "version": "3.7.7"
  }
 },
 "nbformat": 4,
 "nbformat_minor": 4
}
