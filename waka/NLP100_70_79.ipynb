{
 "cells": [
  {
   "cell_type": "markdown",
   "metadata": {},
   "source": [
    "# 第8章: ニューラルネット\n",
    "第6章で取り組んだニュース記事のカテゴリ分類を題材として，ニューラルネットワークでカテゴリ分類モデルを実装する．なお，この章ではPyTorch, TensorFlow, Chainerなどの機械学習プラットフォームを活用せよ"
   ]
  },
  {
   "cell_type": "markdown",
   "metadata": {},
   "source": [
    "## 70. 単語ベクトルの和による特徴量"
   ]
  },
  {
   "cell_type": "code",
   "execution_count": 1,
   "metadata": {
    "scrolled": true
   },
   "outputs": [],
   "source": [
    "import gensim\n",
    "text = gensim.models.KeyedVectors.load_word2vec_format(\"GoogleNews-vectors-negative300.bin/GoogleNews-vectors-negative300.bin\", binary=True)"
   ]
  },
  {
   "cell_type": "code",
   "execution_count": 2,
   "metadata": {},
   "outputs": [],
   "source": [
    "import numpy as np\n",
    "import pandas as pd\n",
    "train_article=pd.read_csv('train.csv')\n",
    "val_article=pd.read_csv('val.csv')\n",
    "test_article=pd.read_csv('test.csv')"
   ]
  },
  {
   "cell_type": "code",
   "execution_count": 3,
   "metadata": {
    "scrolled": false
   },
   "outputs": [],
   "source": [
    "def create_X_vec(article):\n",
    "    article_vec_accumulator=np.zeros((len(article),300))\n",
    "    counter=-1\n",
    "    for article_list in article.TITLE.tolist():\n",
    "        article_list=article_list.split(\" \")\n",
    "        counter+=1\n",
    "        predicted_value=[]\n",
    "        for word in article_list:\n",
    "            word=word.replace(\"'\",\"\")\n",
    "            try:\n",
    "                predicted_value.append(text[word])\n",
    "            except KeyError:\n",
    "                pass\n",
    "        article_vec_mean=np.array(predicted_value).mean(axis=0)\n",
    "        article_vec_accumulator[counter,:]=article_vec_mean\n",
    "    return article_vec_accumulator"
   ]
  },
  {
   "cell_type": "code",
   "execution_count": 4,
   "metadata": {},
   "outputs": [],
   "source": [
    "category_label_dict={\n",
    "    \"b\":0,\n",
    "    \"t\":1,\n",
    "    \"e\":2,\n",
    "    \"m\":3\n",
    "}"
   ]
  },
  {
   "cell_type": "code",
   "execution_count": 89,
   "metadata": {
    "scrolled": false
   },
   "outputs": [],
   "source": [
    "def create_y_sc(article):\n",
    "    article_sc_accumulator=np.zeros((len(article),1),dtype=int)\n",
    "    counter=-1\n",
    "    for category in article.CATEGORY.tolist():\n",
    "        label_id=category_label_dict[category]\n",
    "        counter+=1\n",
    "        article_sc_accumulator[counter,:]=label_id\n",
    "    return article_sc_accumulator"
   ]
  },
  {
   "cell_type": "code",
   "execution_count": 90,
   "metadata": {
    "scrolled": true
   },
   "outputs": [],
   "source": [
    "X_train=create_X_vec(article=train_article)\n",
    "X_val=create_X_vec(article=val_article)\n",
    "X_test=create_X_vec(article=test_article)"
   ]
  },
  {
   "cell_type": "code",
   "execution_count": 91,
   "metadata": {
    "scrolled": true
   },
   "outputs": [],
   "source": [
    "y_train=create_y_sc(article=train_article)\n",
    "y_val=create_y_sc(article=val_article)\n",
    "y_test=create_y_sc(article=test_article)"
   ]
  },
  {
   "cell_type": "markdown",
   "metadata": {},
   "source": [
    "## 71. 単層ニューラルネットワークによる予測"
   ]
  },
  {
   "cell_type": "code",
   "execution_count": 218,
   "metadata": {},
   "outputs": [],
   "source": [
    "from keras.models import Sequential\n",
    "from keras.layers import Dense, Activation"
   ]
  },
  {
   "cell_type": "code",
   "execution_count": 228,
   "metadata": {},
   "outputs": [],
   "source": [
    "model = Sequential()\n",
    "model.add(Dense(4))\n",
    "model.add(Activation('softmax'))\n",
    "model.compile(optimizer='SGD', loss='categorical_crossentropy', metrics=['accuracy'])"
   ]
  },
  {
   "cell_type": "code",
   "execution_count": 248,
   "metadata": {},
   "outputs": [],
   "source": [
    "y_pred=model.predict(X_train[:4,:])"
   ]
  },
  {
   "cell_type": "markdown",
   "metadata": {},
   "source": [
    "## 72. 損失と勾配の計算"
   ]
  },
  {
   "cell_type": "code",
   "execution_count": 249,
   "metadata": {},
   "outputs": [],
   "source": [
    "y_true=y_train_one_hot[:4,:]"
   ]
  },
  {
   "cell_type": "code",
   "execution_count": 250,
   "metadata": {},
   "outputs": [],
   "source": [
    "from keras import losses\n",
    "loss=losses.categorical_crossentropy(y_true, y_pred)"
   ]
  },
  {
   "cell_type": "code",
   "execution_count": 251,
   "metadata": {},
   "outputs": [
    {
     "data": {
      "text/plain": [
       "array([1.2816622 , 0.01001023, 1.3824099 , 1.1875353 ], dtype=float32)"
      ]
     },
     "execution_count": 251,
     "metadata": {},
     "output_type": "execute_result"
    }
   ],
   "source": [
    "loss.numpy()"
   ]
  },
  {
   "cell_type": "code",
   "execution_count": 263,
   "metadata": {},
   "outputs": [
    {
     "ename": "TypeError",
     "evalue": "Tensor is unhashable if Tensor equality is enabled. Instead, use tensor.experimental_ref() as the key.",
     "output_type": "error",
     "traceback": [
      "\u001b[1;31m---------------------------------------------------------------------------\u001b[0m",
      "\u001b[1;31mTypeError\u001b[0m                                 Traceback (most recent call last)",
      "\u001b[1;32m<ipython-input-263-710183f47dae>\u001b[0m in \u001b[0;36m<module>\u001b[1;34m\u001b[0m\n\u001b[0;32m      4\u001b[0m \u001b[1;33m\u001b[0m\u001b[0m\n\u001b[0;32m      5\u001b[0m \u001b[0msess\u001b[0m \u001b[1;33m=\u001b[0m \u001b[0mtf\u001b[0m\u001b[1;33m.\u001b[0m\u001b[0mcompat\u001b[0m\u001b[1;33m.\u001b[0m\u001b[0mv1\u001b[0m\u001b[1;33m.\u001b[0m\u001b[0mSession\u001b[0m\u001b[1;33m(\u001b[0m\u001b[1;33m)\u001b[0m\u001b[1;33m\u001b[0m\u001b[1;33m\u001b[0m\u001b[0m\n\u001b[1;32m----> 6\u001b[1;33m \u001b[0mgrad\u001b[0m \u001b[1;33m=\u001b[0m \u001b[0msess\u001b[0m\u001b[1;33m.\u001b[0m\u001b[0mrun\u001b[0m\u001b[1;33m(\u001b[0m\u001b[0mget_grad\u001b[0m\u001b[1;33m[\u001b[0m\u001b[1;36m0\u001b[0m\u001b[1;33m]\u001b[0m\u001b[1;33m,\u001b[0m \u001b[0mfeed_dict\u001b[0m\u001b[1;33m=\u001b[0m\u001b[1;33m{\u001b[0m\u001b[0mmodel\u001b[0m\u001b[1;33m.\u001b[0m\u001b[0minput\u001b[0m\u001b[1;33m:\u001b[0m \u001b[0mX_train\u001b[0m\u001b[1;33m[\u001b[0m\u001b[1;36m0\u001b[0m\u001b[1;33m,\u001b[0m\u001b[1;33m:\u001b[0m\u001b[1;33m]\u001b[0m\u001b[1;33m}\u001b[0m\u001b[1;33m)\u001b[0m\u001b[1;33m\u001b[0m\u001b[1;33m\u001b[0m\u001b[0m\n\u001b[0m",
      "\u001b[1;32m~\\anaconda3\\envs\\Mecab\\lib\\site-packages\\tensorflow_core\\python\\framework\\ops.py\u001b[0m in \u001b[0;36m__hash__\u001b[1;34m(self)\u001b[0m\n\u001b[0;32m    703\u001b[0m     if (Tensor._USE_EQUALITY and executing_eagerly_outside_functions() and\n\u001b[0;32m    704\u001b[0m         (g is None or g._building_function)):  # pylint: disable=protected-access\n\u001b[1;32m--> 705\u001b[1;33m       raise TypeError(\"Tensor is unhashable if Tensor equality is enabled. \"\n\u001b[0m\u001b[0;32m    706\u001b[0m                       \"Instead, use tensor.experimental_ref() as the key.\")\n\u001b[0;32m    707\u001b[0m     \u001b[1;32melse\u001b[0m\u001b[1;33m:\u001b[0m\u001b[1;33m\u001b[0m\u001b[1;33m\u001b[0m\u001b[0m\n",
      "\u001b[1;31mTypeError\u001b[0m: Tensor is unhashable if Tensor equality is enabled. Instead, use tensor.experimental_ref() as the key."
     ]
    }
   ],
   "source": [
    "from keras import backend as K\n",
    "variables=X_train[:4,:]\n",
    "grad=K.gradients(loss, model.inputs)"
   ]
  },
  {
   "cell_type": "code",
   "execution_count": 266,
   "metadata": {},
   "outputs": [
    {
     "data": {
      "text/plain": [
       "[None]"
      ]
     },
     "execution_count": 266,
     "metadata": {},
     "output_type": "execute_result"
    }
   ],
   "source": [
    "get_grad"
   ]
  },
  {
   "cell_type": "markdown",
   "metadata": {},
   "source": [
    "## 73. 確率的勾配降下法による学習\n"
   ]
  },
  {
   "cell_type": "code",
   "execution_count": 234,
   "metadata": {
    "scrolled": true
   },
   "outputs": [
    {
     "name": "stdout",
     "output_type": "stream",
     "text": [
      "Epoch 1/100\n",
      "10685/10685 [==============================] - 0s 35us/step - loss: 1.2066 - accuracy: 0.5928\n",
      "Epoch 2/100\n",
      "10685/10685 [==============================] - 0s 34us/step - loss: 1.0358 - accuracy: 0.7546\n",
      "Epoch 3/100\n",
      "10685/10685 [==============================] - 0s 34us/step - loss: 0.9547 - accuracy: 0.7670\n",
      "Epoch 4/100\n",
      "10685/10685 [==============================] - 0s 31us/step - loss: 0.8979 - accuracy: 0.7700\n",
      "Epoch 5/100\n",
      "10685/10685 [==============================] - 0s 33us/step - loss: 0.8540 - accuracy: 0.7719\n",
      "Epoch 6/100\n",
      "10685/10685 [==============================] - 0s 36us/step - loss: 0.8184 - accuracy: 0.7727\n",
      "Epoch 7/100\n",
      "10685/10685 [==============================] - 0s 33us/step - loss: 0.7887 - accuracy: 0.7740\n",
      "Epoch 8/100\n",
      "10685/10685 [==============================] - 0s 33us/step - loss: 0.7636 - accuracy: 0.7753\n",
      "Epoch 9/100\n",
      "10685/10685 [==============================] - 0s 36us/step - loss: 0.7417 - accuracy: 0.7759\n",
      "Epoch 10/100\n",
      "10685/10685 [==============================] - 0s 32us/step - loss: 0.7225 - accuracy: 0.7775\n",
      "Epoch 11/100\n",
      "10685/10685 [==============================] - 0s 36us/step - loss: 0.7055 - accuracy: 0.7768\n",
      "Epoch 12/100\n",
      "10685/10685 [==============================] - 0s 32us/step - loss: 0.6902 - accuracy: 0.7778\n",
      "Epoch 13/100\n",
      "10685/10685 [==============================] - 0s 36us/step - loss: 0.6763 - accuracy: 0.7785\n",
      "Epoch 14/100\n",
      "10685/10685 [==============================] - 0s 32us/step - loss: 0.6636 - accuracy: 0.7789\n",
      "Epoch 15/100\n",
      "10685/10685 [==============================] - 0s 35us/step - loss: 0.6520 - accuracy: 0.7799\n",
      "Epoch 16/100\n",
      "10685/10685 [==============================] - 0s 35us/step - loss: 0.6411 - accuracy: 0.7809\n",
      "Epoch 17/100\n",
      "10685/10685 [==============================] - 0s 35us/step - loss: 0.6312 - accuracy: 0.7818\n",
      "Epoch 18/100\n",
      "10685/10685 [==============================] - 0s 35us/step - loss: 0.6218 - accuracy: 0.7829\n",
      "Epoch 19/100\n",
      "10685/10685 [==============================] - 0s 33us/step - loss: 0.6131 - accuracy: 0.7847\n",
      "Epoch 20/100\n",
      "10685/10685 [==============================] - 0s 32us/step - loss: 0.6049 - accuracy: 0.7869\n",
      "Epoch 21/100\n",
      "10685/10685 [==============================] - 0s 33us/step - loss: 0.5972 - accuracy: 0.7883\n",
      "Epoch 22/100\n",
      "10685/10685 [==============================] - 0s 33us/step - loss: 0.5899 - accuracy: 0.7906\n",
      "Epoch 23/100\n",
      "10685/10685 [==============================] - 0s 45us/step - loss: 0.5829 - accuracy: 0.7939\n",
      "Epoch 24/100\n",
      "10685/10685 [==============================] - 0s 36us/step - loss: 0.5764 - accuracy: 0.7965\n",
      "Epoch 25/100\n",
      "10685/10685 [==============================] - 0s 35us/step - loss: 0.5701 - accuracy: 0.7989\n",
      "Epoch 26/100\n",
      "10685/10685 [==============================] - 0s 37us/step - loss: 0.5642 - accuracy: 0.8014\n",
      "Epoch 27/100\n",
      "10685/10685 [==============================] - 0s 36us/step - loss: 0.5585 - accuracy: 0.8017\n",
      "Epoch 28/100\n",
      "10685/10685 [==============================] - 0s 35us/step - loss: 0.5531 - accuracy: 0.8051\n",
      "Epoch 29/100\n",
      "10685/10685 [==============================] - 0s 41us/step - loss: 0.5479 - accuracy: 0.8079\n",
      "Epoch 30/100\n",
      "10685/10685 [==============================] - 0s 40us/step - loss: 0.5429 - accuracy: 0.8100\n",
      "Epoch 31/100\n",
      "10685/10685 [==============================] - 0s 44us/step - loss: 0.5381 - accuracy: 0.8120\n",
      "Epoch 32/100\n",
      "10685/10685 [==============================] - 1s 50us/step - loss: 0.5335 - accuracy: 0.8134\n",
      "Epoch 33/100\n",
      "10685/10685 [==============================] - 0s 35us/step - loss: 0.5291 - accuracy: 0.8150\n",
      "Epoch 34/100\n",
      "10685/10685 [==============================] - 0s 33us/step - loss: 0.5249 - accuracy: 0.8167\n",
      "Epoch 35/100\n",
      "10685/10685 [==============================] - 0s 32us/step - loss: 0.5208 - accuracy: 0.8190\n",
      "Epoch 36/100\n",
      "10685/10685 [==============================] - 0s 31us/step - loss: 0.5169 - accuracy: 0.8202\n",
      "Epoch 37/100\n",
      "10685/10685 [==============================] - 0s 32us/step - loss: 0.5131 - accuracy: 0.8219\n",
      "Epoch 38/100\n",
      "10685/10685 [==============================] - 0s 31us/step - loss: 0.5094 - accuracy: 0.8240\n",
      "Epoch 39/100\n",
      "10685/10685 [==============================] - 0s 31us/step - loss: 0.5058 - accuracy: 0.8255\n",
      "Epoch 40/100\n",
      "10685/10685 [==============================] - 0s 34us/step - loss: 0.5024 - accuracy: 0.8267\n",
      "Epoch 41/100\n",
      "10685/10685 [==============================] - 0s 33us/step - loss: 0.4991 - accuracy: 0.8281\n",
      "Epoch 42/100\n",
      "10685/10685 [==============================] - 0s 32us/step - loss: 0.4959 - accuracy: 0.8299\n",
      "Epoch 43/100\n",
      "10685/10685 [==============================] - 0s 38us/step - loss: 0.4928 - accuracy: 0.8308\n",
      "Epoch 44/100\n",
      "10685/10685 [==============================] - 0s 31us/step - loss: 0.4897 - accuracy: 0.8321\n",
      "Epoch 45/100\n",
      "10685/10685 [==============================] - 0s 32us/step - loss: 0.4868 - accuracy: 0.8328\n",
      "Epoch 46/100\n",
      "10685/10685 [==============================] - 0s 33us/step - loss: 0.4840 - accuracy: 0.8339\n",
      "Epoch 47/100\n",
      "10685/10685 [==============================] - 0s 32us/step - loss: 0.4812 - accuracy: 0.8353\n",
      "Epoch 48/100\n",
      "10685/10685 [==============================] - 0s 33us/step - loss: 0.4786 - accuracy: 0.8360\n",
      "Epoch 49/100\n",
      "10685/10685 [==============================] - 0s 34us/step - loss: 0.4760 - accuracy: 0.8372\n",
      "Epoch 50/100\n",
      "10685/10685 [==============================] - 0s 32us/step - loss: 0.4734 - accuracy: 0.8389\n",
      "Epoch 51/100\n",
      "10685/10685 [==============================] - 0s 32us/step - loss: 0.4710 - accuracy: 0.8394\n",
      "Epoch 52/100\n",
      "10685/10685 [==============================] - 0s 31us/step - loss: 0.4686 - accuracy: 0.8411\n",
      "Epoch 53/100\n",
      "10685/10685 [==============================] - 0s 32us/step - loss: 0.4662 - accuracy: 0.8410\n",
      "Epoch 54/100\n",
      "10685/10685 [==============================] - 0s 31us/step - loss: 0.4640 - accuracy: 0.8420\n",
      "Epoch 55/100\n",
      "10685/10685 [==============================] - 0s 32us/step - loss: 0.4618 - accuracy: 0.8443\n",
      "Epoch 56/100\n",
      "10685/10685 [==============================] - 0s 32us/step - loss: 0.4596 - accuracy: 0.8445\n",
      "Epoch 57/100\n",
      "10685/10685 [==============================] - 0s 31us/step - loss: 0.4575 - accuracy: 0.8458\n",
      "Epoch 58/100\n",
      "10685/10685 [==============================] - 0s 31us/step - loss: 0.4555 - accuracy: 0.8466\n",
      "Epoch 59/100\n",
      "10685/10685 [==============================] - 0s 33us/step - loss: 0.4535 - accuracy: 0.8466\n",
      "Epoch 60/100\n",
      "10685/10685 [==============================] - 0s 31us/step - loss: 0.4515 - accuracy: 0.8486\n",
      "Epoch 61/100\n",
      "10685/10685 [==============================] - 0s 31us/step - loss: 0.4496 - accuracy: 0.8497\n",
      "Epoch 62/100\n",
      "10685/10685 [==============================] - 0s 33us/step - loss: 0.4478 - accuracy: 0.8500\n",
      "Epoch 63/100\n",
      "10685/10685 [==============================] - 0s 32us/step - loss: 0.4459 - accuracy: 0.8505\n",
      "Epoch 64/100\n",
      "10685/10685 [==============================] - 0s 33us/step - loss: 0.4442 - accuracy: 0.8526\n",
      "Epoch 65/100\n",
      "10685/10685 [==============================] - 0s 32us/step - loss: 0.4424 - accuracy: 0.8529\n",
      "Epoch 66/100\n",
      "10685/10685 [==============================] - 0s 32us/step - loss: 0.4408 - accuracy: 0.8533\n",
      "Epoch 67/100\n",
      "10685/10685 [==============================] - 0s 33us/step - loss: 0.4391 - accuracy: 0.8547\n",
      "Epoch 68/100\n",
      "10685/10685 [==============================] - 0s 40us/step - loss: 0.4375 - accuracy: 0.8560\n",
      "Epoch 69/100\n",
      "10685/10685 [==============================] - 0s 44us/step - loss: 0.4359 - accuracy: 0.8565\n",
      "Epoch 70/100\n",
      "10685/10685 [==============================] - 0s 40us/step - loss: 0.4343 - accuracy: 0.8570\n",
      "Epoch 71/100\n",
      "10685/10685 [==============================] - 0s 34us/step - loss: 0.4328 - accuracy: 0.8572\n",
      "Epoch 72/100\n",
      "10685/10685 [==============================] - 0s 33us/step - loss: 0.4313 - accuracy: 0.8570\n",
      "Epoch 73/100\n",
      "10685/10685 [==============================] - 0s 34us/step - loss: 0.4299 - accuracy: 0.8580\n",
      "Epoch 74/100\n",
      "10685/10685 [==============================] - 0s 39us/step - loss: 0.4284 - accuracy: 0.8583\n",
      "Epoch 75/100\n",
      "10685/10685 [==============================] - 0s 36us/step - loss: 0.4270 - accuracy: 0.8592\n",
      "Epoch 76/100\n",
      "10685/10685 [==============================] - 0s 39us/step - loss: 0.4257 - accuracy: 0.8605\n",
      "Epoch 77/100\n"
     ]
    },
    {
     "name": "stdout",
     "output_type": "stream",
     "text": [
      "10685/10685 [==============================] - 0s 37us/step - loss: 0.4243 - accuracy: 0.8601\n",
      "Epoch 78/100\n",
      "10685/10685 [==============================] - 1s 51us/step - loss: 0.4230 - accuracy: 0.8614\n",
      "Epoch 79/100\n",
      "10685/10685 [==============================] - 1s 58us/step - loss: 0.4217 - accuracy: 0.8626\n",
      "Epoch 80/100\n",
      "10685/10685 [==============================] - 0s 46us/step - loss: 0.4204 - accuracy: 0.8633\n",
      "Epoch 81/100\n",
      "10685/10685 [==============================] - 1s 54us/step - loss: 0.4192 - accuracy: 0.8639\n",
      "Epoch 82/100\n",
      "10685/10685 [==============================] - 1s 53us/step - loss: 0.4180 - accuracy: 0.8644\n",
      "Epoch 83/100\n",
      "10685/10685 [==============================] - 0s 46us/step - loss: 0.4168 - accuracy: 0.8654\n",
      "Epoch 84/100\n",
      "10685/10685 [==============================] - 0s 38us/step - loss: 0.4156 - accuracy: 0.8656\n",
      "Epoch 85/100\n",
      "10685/10685 [==============================] - 0s 32us/step - loss: 0.4144 - accuracy: 0.8664\n",
      "Epoch 86/100\n",
      "10685/10685 [==============================] - 0s 32us/step - loss: 0.4133 - accuracy: 0.8673\n",
      "Epoch 87/100\n",
      "10685/10685 [==============================] - 0s 31us/step - loss: 0.4122 - accuracy: 0.8677\n",
      "Epoch 88/100\n",
      "10685/10685 [==============================] - 0s 32us/step - loss: 0.4111 - accuracy: 0.8680\n",
      "Epoch 89/100\n",
      "10685/10685 [==============================] - 0s 32us/step - loss: 0.4100 - accuracy: 0.8678\n",
      "Epoch 90/100\n",
      "10685/10685 [==============================] - 0s 35us/step - loss: 0.4089 - accuracy: 0.8681\n",
      "Epoch 91/100\n",
      "10685/10685 [==============================] - 0s 41us/step - loss: 0.4079 - accuracy: 0.8697\n",
      "Epoch 92/100\n",
      "10685/10685 [==============================] - 0s 35us/step - loss: 0.4069 - accuracy: 0.8696\n",
      "Epoch 93/100\n",
      "10685/10685 [==============================] - 0s 40us/step - loss: 0.4059 - accuracy: 0.8696\n",
      "Epoch 94/100\n",
      "10685/10685 [==============================] - 0s 33us/step - loss: 0.4049 - accuracy: 0.8696\n",
      "Epoch 95/100\n",
      "10685/10685 [==============================] - 0s 31us/step - loss: 0.4039 - accuracy: 0.8703\n",
      "Epoch 96/100\n",
      "10685/10685 [==============================] - 0s 31us/step - loss: 0.4029 - accuracy: 0.8701\n",
      "Epoch 97/100\n",
      "10685/10685 [==============================] - 0s 36us/step - loss: 0.4020 - accuracy: 0.8703\n",
      "Epoch 98/100\n",
      "10685/10685 [==============================] - 0s 32us/step - loss: 0.4011 - accuracy: 0.8708\n",
      "Epoch 99/100\n",
      "10685/10685 [==============================] - 0s 35us/step - loss: 0.4001 - accuracy: 0.8708\n",
      "Epoch 100/100\n",
      "10685/10685 [==============================] - 0s 42us/step - loss: 0.3993 - accuracy: 0.8709\n"
     ]
    },
    {
     "data": {
      "text/plain": [
       "<keras.callbacks.callbacks.History at 0x175e3fc58c8>"
      ]
     },
     "execution_count": 234,
     "metadata": {},
     "output_type": "execute_result"
    }
   ],
   "source": [
    "model.fit(X_train, y_train_one_hot, epochs=100)"
   ]
  },
  {
   "cell_type": "markdown",
   "metadata": {},
   "source": [
    "## 74. 正解率の計測"
   ]
  },
  {
   "cell_type": "code",
   "execution_count": 241,
   "metadata": {
    "scrolled": true
   },
   "outputs": [
    {
     "name": "stdout",
     "output_type": "stream",
     "text": [
      "train acc: 0.871408516612073\n",
      "test acc: 0.8764044943820225\n"
     ]
    }
   ],
   "source": [
    "from sklearn.metrics import accuracy_score\n",
    "print(f\"train acc: {accuracy_score(y_train,model.predict_classes(X_train))}\")\n",
    "print(f\"test acc: {accuracy_score(y_test,model.predict_classes(X_test))}\")"
   ]
  },
  {
   "cell_type": "code",
   "execution_count": null,
   "metadata": {},
   "outputs": [],
   "source": []
  }
 ],
 "metadata": {
  "kernelspec": {
   "display_name": "Python 3",
   "language": "python",
   "name": "python3"
  },
  "language_info": {
   "codemirror_mode": {
    "name": "ipython",
    "version": 3
   },
   "file_extension": ".py",
   "mimetype": "text/x-python",
   "name": "python",
   "nbconvert_exporter": "python",
   "pygments_lexer": "ipython3",
   "version": "3.7.7"
  }
 },
 "nbformat": 4,
 "nbformat_minor": 4
}
